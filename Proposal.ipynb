Cortez, P., Cerdeira, A.L., Almeida, F., Matos, T., & Reis, J. (2009). Modeling wine preferences by data mining from physicochemical properties. Decis. Support Syst., 47, 547-553.
JJ Buckley Fine Wines. (2018, October 23). The 4 Factors and 4 Indicators of Wine Quality.https://www.jjbuckley.com/wine-knowledge/blog/the-4-factors-and-4-indic ators-of-wine-quality/1009
Firke S (2023). _janitor: Simple Tools for Examining and Cleaning Dirty Data_. R package version 2.2.0, https://CRAN.R-project.org/package=janitor
H. Wickham. ggplot2: Elegant Graphics for Data Analysis. Springer-Verlag New York, 2016..
