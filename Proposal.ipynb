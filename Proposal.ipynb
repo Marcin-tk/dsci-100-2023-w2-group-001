{
 "cells": [
  {
   "cell_type": "markdown",
   "id": "09cc699f-f3eb-49da-a7e4-1f6801c4e158",
   "metadata": {},
   "source": [
    "# Group Proposal"
   ]
  },
  {
   "cell_type": "markdown",
   "id": "ce1ead30-02d9-4aca-b5ee-0dfc34a321b8",
   "metadata": {},
   "source": [
    "add intro paragraph talking about tennis breifly"
   ]
  }
 ],
 "metadata": {
  "kernelspec": {
   "display_name": "Python 3 (ipykernel)",
   "language": "python",
   "name": "python3"
  },
  "language_info": {
   "codemirror_mode": {
    "name": "ipython",
    "version": 3
   },
   "file_extension": ".py",
   "mimetype": "text/x-python",
   "name": "python",
   "nbconvert_exporter": "python",
   "pygments_lexer": "ipython3",
   "version": "3.11.6"
  }
 },
 "nbformat": 4,
 "nbformat_minor": 5
}
